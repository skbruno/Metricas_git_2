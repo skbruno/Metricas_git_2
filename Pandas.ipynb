{
  "nbformat": 4,
  "nbformat_minor": 0,
  "metadata": {
    "colab": {
      "provenance": []
    },
    "kernelspec": {
      "name": "python3",
      "display_name": "Python 3"
    },
    "language_info": {
      "name": "python"
    }
  },
  "cells": [
    {
      "cell_type": "markdown",
      "source": [
        "# Informação básicas"
      ],
      "metadata": {
        "id": "w3UMWWOHvOM3"
      }
    },
    {
      "cell_type": "markdown",
      "source": [
        "Baixando o repositório desejado"
      ],
      "metadata": {
        "id": "OTTuWhv3TFom"
      }
    },
    {
      "cell_type": "code",
      "source": [
        "!git clone https://github.com/pandas-dev/pandas"
      ],
      "metadata": {
        "colab": {
          "base_uri": "https://localhost:8080/"
        },
        "id": "qS0gp5-hxQhR",
        "outputId": "d8534d02-6fc8-4d4e-ee02-e0fd6de597e3"
      },
      "execution_count": null,
      "outputs": [
        {
          "output_type": "stream",
          "name": "stdout",
          "text": [
            "Cloning into 'pandas'...\n",
            "remote: Enumerating objects: 397706, done.\u001b[K\n",
            "remote: Counting objects: 100% (124/124), done.\u001b[K\n",
            "remote: Compressing objects: 100% (92/92), done.\u001b[K\n",
            "remote: Total 397706 (delta 49), reused 81 (delta 32), pack-reused 397582 (from 1)\u001b[K\n",
            "Receiving objects: 100% (397706/397706), 350.87 MiB | 18.00 MiB/s, done.\n",
            "Resolving deltas: 100% (334316/334316), done.\n"
          ]
        }
      ]
    },
    {
      "cell_type": "markdown",
      "source": [
        "Mudando a pasta atual para o pygame"
      ],
      "metadata": {
        "id": "PwUizcz5THh2"
      }
    },
    {
      "cell_type": "code",
      "source": [
        "%cd /content/pandas"
      ],
      "metadata": {
        "colab": {
          "base_uri": "https://localhost:8080/"
        },
        "id": "_mXKyCcozxEg",
        "outputId": "b8bfdc9c-fd9c-4a6e-8eb3-24bf9e916078"
      },
      "execution_count": null,
      "outputs": [
        {
          "output_type": "stream",
          "name": "stdout",
          "text": [
            "/content/pandas\n"
          ]
        }
      ]
    },
    {
      "cell_type": "code",
      "source": [
        "!ls\n",
        "!pwd"
      ],
      "metadata": {
        "colab": {
          "base_uri": "https://localhost:8080/"
        },
        "id": "_N5RXLowNuvj",
        "outputId": "d1512210-feee-4b06-8f0d-8fcdc0a8212e"
      },
      "execution_count": null,
      "outputs": [
        {
          "output_type": "stream",
          "name": "stdout",
          "text": [
            "asv_bench     doc\t\t   gitpod\tpandas\t\t\t\t      scripts\n",
            "AUTHORS.md    Dockerfile\t   LICENSE\tpyproject.toml\t\t\t      setup.py\n",
            "ci\t      environment.yml\t   LICENSES\tpyright_reportGeneralTypeIssues.json  tooling\n",
            "CITATION.cff  generate_pxi.py\t   MANIFEST.in\tREADME.md\t\t\t      typings\n",
            "codecov.yml   generate_version.py  meson.build\trequirements-dev.txt\t\t      web\n",
            "/content/pandas\n"
          ]
        }
      ]
    },
    {
      "cell_type": "markdown",
      "source": [
        "## Operações básicas"
      ],
      "metadata": {
        "id": "MrBJLeCpTMPg"
      }
    },
    {
      "cell_type": "markdown",
      "source": [
        "Lista contribuidores"
      ],
      "metadata": {
        "id": "iyvmHu5Ezk-I"
      }
    },
    {
      "cell_type": "markdown",
      "source": [
        "1. Contar o Número de Commits em um Repositório"
      ],
      "metadata": {
        "id": "zS7OB64Sqwnm"
      }
    },
    {
      "cell_type": "code",
      "execution_count": null,
      "metadata": {
        "colab": {
          "base_uri": "https://localhost:8080/"
        },
        "id": "xnD4RXDMqvfh",
        "outputId": "6ce74ed2-a832-4c2e-e040-381dd221cdb0"
      },
      "outputs": [
        {
          "output_type": "stream",
          "name": "stdout",
          "text": [
            "3017\n",
            "2254\n",
            "1450\n",
            "14224\n"
          ]
        }
      ],
      "source": [
        "!git rev-list --count HEAD --after='2023-01-01' --before='2023-12-31'\n",
        "!git rev-list --count HEAD --after='2023-01-01' --before='2023-09-15'\n",
        "!git rev-list --count HEAD --after='2024-01-01' --before='2024-09-15'\n",
        "\n",
        "!git rev-list --count HEAD --after='2020-01-01'"
      ]
    },
    {
      "cell_type": "markdown",
      "source": [
        " 2. Identificar os Arquivos Mais Ativos\n",
        "\n",
        " Este comando lista os 10 arquivos mais frequentemente modificados, o que pode indicar áreas de instabilidade ou alto *churn*."
      ],
      "metadata": {
        "id": "3qqpy8NytkIO"
      }
    },
    {
      "cell_type": "code",
      "source": [
        "!git shortlog -sn --email --no-merges | head -n 10 | tee users-commit.txt"
      ],
      "metadata": {
        "colab": {
          "base_uri": "https://localhost:8080/"
        },
        "id": "KOQmwREH014G",
        "outputId": "54e7a7de-469c-4268-8c00-e91438aa8744"
      },
      "execution_count": null,
      "outputs": [
        {
          "output_type": "stream",
          "name": "stdout",
          "text": [
            "  4836\tjbrockmendel <jbrockmendel@gmail.com>\n",
            "  2984\tWes McKinney <wesmckinn@gmail.com>\n",
            "  1398\tjreback <jeff@reback.net>\n",
            "  1349\tJeff Reback <jeff@reback.net>\n",
            "  1092\tJoris Van den Bossche <jorisvandenbossche@gmail.com>\n",
            "   945\tPatrick Hoefler <61934744+phofl@users.noreply.github.com>\n",
            "   765\ty-p <yoval@gmx.com>\n",
            "   707\tMatthew Roeschke <emailformattr@gmail.com>\n",
            "   662\tMatthew Roeschke <10647082+mroeschke@users.noreply.github.com>\n",
            "   622\tSimon Hawkins <simonjayhawkins@gmail.com>\n"
          ]
        }
      ]
    },
    {
      "cell_type": "code",
      "source": [
        "!git log --pretty=format: --name-only | sort | uniq -c | sort -nr | head -10 | tee file"
      ],
      "metadata": {
        "colab": {
          "base_uri": "https://localhost:8080/"
        },
        "id": "fBEw74t6trgM",
        "outputId": "74d53e68-8483-4626-e4f5-546a9870a969"
      },
      "execution_count": null,
      "outputs": [
        {
          "output_type": "stream",
          "name": "stdout",
          "text": [
            "  35520 \n",
            "   3125 pandas/core/frame.py\n",
            "   2080 pandas/core/generic.py\n",
            "   2017 pandas/core/series.py\n",
            "   1256 pandas/core/indexes/base.py\n",
            "   1128 pandas/tests/test_frame.py\n",
            "   1072 RELEASE.rst\n",
            "    840 doc/source/release.rst\n",
            "    769 pandas/io/pytables.py\n",
            "    756 pandas/core/index.py\n"
          ]
        }
      ]
    },
    {
      "cell_type": "markdown",
      "source": [
        "6. Medir a Idade do Código"
      ],
      "metadata": {
        "id": "VrhXwBw_uN-s"
      }
    },
    {
      "cell_type": "code",
      "source": [
        "!git log --format=\"%aD\" | tail -1"
      ],
      "metadata": {
        "colab": {
          "base_uri": "https://localhost:8080/"
        },
        "id": "0U0hg6-zuSq-",
        "outputId": "c7b99af4-bda5-4077-f298-398ea8e75aae"
      },
      "execution_count": null,
      "outputs": [
        {
          "output_type": "stream",
          "name": "stdout",
          "text": [
            "Fri, 31 Jul 2009 15:07:16 +0000\n"
          ]
        }
      ]
    },
    {
      "cell_type": "markdown",
      "source": [
        "Metrica 2\n"
      ],
      "metadata": {
        "id": "zQWW5AtZarat"
      }
    },
    {
      "cell_type": "code",
      "source": [
        "!git log --since=\"2020-01-01\" --until=\"now\" --pretty=format: --name-only | grep '^doc/' | sort | uniq -c | sort -nr | tee docs_commits.txt"
      ],
      "metadata": {
        "id": "vULjSOUh5YKe",
        "colab": {
          "base_uri": "https://localhost:8080/"
        },
        "outputId": "386de725-6fc3-482e-917f-b3e5dc68fd01"
      },
      "execution_count": null,
      "outputs": [
        {
          "output_type": "stream",
          "name": "stdout",
          "text": [
            "    528 doc/source/whatsnew/v2.0.0.rst\n",
            "    450 doc/source/whatsnew/v1.3.0.rst\n",
            "    420 doc/source/whatsnew/v1.4.0.rst\n",
            "    406 doc/source/whatsnew/v1.1.0.rst\n",
            "    375 doc/source/whatsnew/v2.1.0.rst\n",
            "    367 doc/source/whatsnew/v1.5.0.rst\n",
            "    340 doc/source/whatsnew/v1.2.0.rst\n",
            "    297 doc/source/whatsnew/v3.0.0.rst\n",
            "    265 doc/source/whatsnew/v2.2.0.rst\n",
            "    172 doc/source/user_guide/io.rst\n",
            "    102 doc/source/getting_started/install.rst\n",
            "     92 doc/source/whatsnew/v1.0.0.rst\n",
            "     73 doc/source/whatsnew/v1.6.0.rst\n",
            "     73 doc/source/user_guide/timeseries.rst\n",
            "     65 doc/source/user_guide/groupby.rst\n",
            "     64 doc/source/development/contributing.rst\n",
            "     59 doc/source/conf.py\n",
            "     56 doc/source/whatsnew/index.rst\n",
            "     56 doc/source/development/contributing_codebase.rst\n",
            "     53 doc/source/user_guide/style.ipynb\n",
            "     47 doc/source/user_guide/basics.rst\n",
            "     47 doc/source/ecosystem.rst\n",
            "     46 doc/source/user_guide/indexing.rst\n",
            "     45 doc/source/whatsnew/v1.2.1.rst\n",
            "     44 doc/source/whatsnew/v1.0.2.rst\n",
            "     41 doc/source/whatsnew/v2.2.1.rst\n",
            "     40 doc/source/user_guide/cookbook.rst\n",
            "     37 doc/source/user_guide/visualization.rst\n",
            "     36 doc/source/whatsnew/v2.1.2.rst\n",
            "     36 doc/source/user_guide/missing_data.rst\n",
            "     35 doc/source/whatsnew/v2.0.1.rst\n",
            "     35 doc/source/development/contributing_environment.rst\n",
            "     33 doc/source/user_guide/10min.rst\n",
            "     32 doc/source/whatsnew/v1.5.1.rst\n",
            "     32 doc/source/whatsnew/v1.1.3.rst\n",
            "     31 doc/source/reference/series.rst\n",
            "     31 doc/redirects.csv\n",
            "     30 doc/source/whatsnew/v1.4.4.rst\n",
            "     30 doc/source/whatsnew/v1.0.1.rst\n",
            "     29 doc/source/whatsnew/v1.1.4.rst\n",
            "     29 doc/source/whatsnew/v1.1.2.rst\n",
            "     28 doc/source/whatsnew/v1.1.1.rst\n",
            "     28 doc/source/user_guide/window.rst\n",
            "     28 doc/source/reference/arrays.rst\n",
            "     28 doc/source/development/maintaining.rst\n",
            "     26 doc/source/user_guide/merging.rst\n",
            "     25 doc/source/whatsnew/v2.0.2.rst\n",
            "     25 doc/source/whatsnew/v1.4.3.rst\n",
            "     25 doc/source/whatsnew/v1.3.2.rst\n",
            "     25 doc/source/whatsnew/v0.20.0.rst\n",
            "     25 doc/source/user_guide/reshaping.rst\n",
            "     25 doc/source/user_guide/computation.rst\n",
            "     25 doc/source/user_guide/advanced.rst\n",
            "     25 doc/source/reference/frame.rst\n",
            "     24 doc/source/whatsnew/v2.1.1.rst\n",
            "     24 doc/source/whatsnew/v1.4.1.rst\n",
            "     24 doc/source/whatsnew/v1.3.1.rst\n",
            "     24 doc/source/user_guide/categorical.rst\n",
            "     24 doc/source/reference/style.rst\n",
            "     24 doc/source/reference/indexing.rst\n",
            "     23 doc/source/whatsnew/v1.3.3.rst\n",
            "     23 doc/source/whatsnew/v1.1.5.rst\n",
            "     23 doc/source/user_guide/enhancingperf.rst\n",
            "     22 doc/source/whatsnew/v1.5.3.rst\n",
            "     22 doc/source/user_guide/dsintro.rst\n",
            "     21 doc/source/whatsnew/v1.4.2.rst\n",
            "     21 doc/source/whatsnew/v1.3.4.rst\n",
            "     21 doc/source/user_guide/scale.rst\n",
            "     21 doc/source/user_guide/options.rst\n",
            "     21 doc/source/reference/offset_frequency.rst\n",
            "     21 doc/source/development/extending.rst\n",
            "     20 doc/source/whatsnew/v1.2.2.rst\n",
            "     20 doc/source/whatsnew/v0.25.0.rst\n",
            "     20 doc/source/whatsnew/v0.24.0.rst\n",
            "     20 doc/source/user_guide/text.rst\n",
            "     20 doc/make.py\n",
            "     19 doc/source/reference/extensions.rst\n",
            "     18 doc/source/whatsnew/v2.3.0.rst\n",
            "     18 doc/source/whatsnew/v2.1.4.rst\n",
            "     18 doc/source/getting_started/index.rst\n",
            "     18 doc/source/getting_started/comparison/comparison_with_sql.rst\n",
            "     17 doc/source/whatsnew/v0.19.0.rst\n",
            "     17 doc/source/whatsnew/v0.13.0.rst\n",
            "     17 doc/source/reference/testing.rst\n",
            "     17 doc/source/development/code_style.rst\n",
            "     16 doc/source/whatsnew/v2.0.3.rst\n",
            "     16 doc/source/development/contributing_docstring.rst\n",
            "     15 doc/source/whatsnew/v0.14.0.rst\n",
            "     15 doc/source/user_guide/gotchas.rst\n",
            "     15 doc/source/reference/groupby.rst\n",
            "     15 doc/source/getting_started/intro_tutorials/09_timeseries.rst\n",
            "     15 doc/source/getting_started/intro_tutorials/06_calculate_statistics.rst\n",
            "     15 doc/source/getting_started/intro_tutorials/03_subset_data.rst\n",
            "     14 doc/source/development/debugging_extensions.rst\n",
            "     13 doc/source/whatsnew/v1.5.2.rst\n",
            "     13 doc/source/whatsnew/v1.3.5.rst\n",
            "     13 doc/source/whatsnew/v0.21.0.rst\n",
            "     13 doc/source/whatsnew/v0.15.0.rst\n",
            "     13 doc/source/user_guide/sparse.rst\n",
            "     13 doc/source/user_guide/copy_on_write.rst\n",
            "     13 doc/source/getting_started/intro_tutorials/10_text_data.rst\n",
            "     13 doc/source/getting_started/intro_tutorials/07_reshape_table_layout.rst\n",
            "     13 doc/source/getting_started/intro_tutorials/04_plotting.rst\n",
            "     13 doc/source/getting_started/intro_tutorials/02_read_write.rst\n",
            "     13 doc/source/getting_started/comparison/comparison_with_stata.rst\n",
            "     12 doc/source/whatsnew/v0.23.0.rst\n",
            "     12 doc/source/whatsnew/v0.17.0.rst\n",
            "     12 doc/source/reference/window.rst\n",
            "     12 doc/source/getting_started/comparison/comparison_with_sas.rst\n",
            "     12 doc/source/development/roadmap.rst\n",
            "     11 doc/source/whatsnew/v1.2.3.rst\n",
            "     11 doc/source/whatsnew/v0.18.0.rst\n",
            "     11 doc/source/user_guide/timedeltas.rst\n",
            "     11 doc/source/reference/general_utility_functions.rst\n",
            "     11 doc/source/index.rst.template\n",
            "     11 doc/source/getting_started/tutorials.rst\n",
            "     11 doc/source/getting_started/intro_tutorials/08_combine_dataframes.rst\n",
            "     11 doc/source/getting_started/comparison/comparison_with_spreadsheets.rst\n",
            "     11 doc/source/development/index.rst\n",
            "     10 doc/sphinxext/announce.py\n",
            "     10 doc/source/whatsnew/v1.2.5.rst\n",
            "     10 doc/source/whatsnew/v1.2.4.rst\n",
            "     10 doc/source/user_guide/integer_na.rst\n",
            "     10 doc/source/getting_started/overview.rst\n",
            "     10 doc/source/getting_started/intro_tutorials/05_add_columns.rst\n",
            "     10 doc/source/development/policies.rst\n",
            "      9 doc/source/whatsnew/v2.2.2.rst\n",
            "      9 doc/source/whatsnew/v0.8.0.rst\n",
            "      9 doc/source/whatsnew/v0.18.1.rst\n",
            "      9 doc/source/whatsnew/v0.15.2.rst\n",
            "      9 doc/source/whatsnew/v0.12.0.rst\n",
            "      9 doc/source/whatsnew/v0.11.0.rst\n",
            "      9 doc/source/whatsnew/v0.10.0.rst\n",
            "      9 doc/source/user_guide/boolean.rst\n",
            "      9 doc/source/_static/css/pandas.css\n",
            "      9 doc/source/reference/io.rst\n",
            "      9 doc/source/reference/index.rst\n",
            "      8 doc/source/whatsnew/v0.16.2.rst\n",
            "      8 doc/source/whatsnew/v0.13.1.rst\n",
            "      8 doc/source/user_guide/pyarrow.rst\n",
            "      8 doc/source/user_guide/index.rst\n",
            "      8 doc/source/getting_started/intro_tutorials/01_table_oriented.rst\n",
            "      8 doc/source/getting_started/comparison/comparison_with_r.rst\n",
            "      7 doc/source/whatsnew/v0.15.1.rst\n",
            "      7 doc/source/_static/css/getting_started.css\n",
            "      7 doc/source/reference/general_functions.rst\n",
            "      7 doc/source/development/contributing_documentation.rst\n",
            "      7 doc/source/development/community.rst\n",
            "      6 doc/source/whatsnew/v2.1.3.rst\n",
            "      6 doc/source/whatsnew/v0.7.0.rst\n",
            "      6 doc/source/whatsnew/v0.6.0.rst\n",
            "      6 doc/source/whatsnew/v0.22.0.rst\n",
            "      6 doc/source/whatsnew/v0.21.1.rst\n",
            "      6 doc/source/development/internals.rst\n",
            "      6 doc/scripts/eval_performance.py\n",
            "      5 doc/source/whatsnew/v1.0.5.rst\n",
            "      5 doc/source/whatsnew/v1.0.3.rst\n",
            "      5 doc/source/whatsnew/v0.6.1.rst\n",
            "      5 doc/source/whatsnew/v0.24.2.rst\n",
            "      5 doc/source/whatsnew/v0.16.1.rst\n",
            "      5 doc/source/whatsnew/v0.14.1.rst\n",
            "      5 doc/source/user_guide/duplicates.rst\n",
            "      5 doc/source/reference/resampling.rst\n",
            "      5 doc/source/getting_started/intro_tutorials/includes/titanic.rst\n",
            "      5 doc/source/getting_started/dsintro.rst\n",
            "      5 doc/source/development/test_writing.rst\n",
            "      4 doc/source/whatsnew/v0.9.1.rst\n",
            "      4 doc/source/whatsnew/v0.5.0.rst\n",
            "      4 doc/source/whatsnew/v0.25.1.rst\n",
            "      4 doc/source/whatsnew/v0.17.1.rst\n",
            "      4 doc/source/whatsnew/v0.16.0.rst\n",
            "      4 doc/source/whatsnew/v0.10.1.rst\n",
            "      4 doc/source/getting_started/intro_tutorials/includes/air_quality_no2.rst\n",
            "      4 doc/source/getting_started/comparison/includes/copies.rst\n",
            "      4 doc/source/getting_started/basics.rst\n",
            "      4 doc/source/development/developer.rst\n",
            "      4 doc/source/development/contributing_gitpod.rst\n",
            "      3 doc/_templates/sidebar-nav-bs.html\n",
            "      3 doc/source/whatsnew/v1.0.4.rst\n",
            "      3 doc/source/whatsnew/v0.9.0.rst\n",
            "      3 doc/source/whatsnew/v0.7.3.rst\n",
            "      3 doc/source/whatsnew/v0.25.2.rst\n",
            "      3 doc/source/whatsnew/v0.24.1.rst\n",
            "      3 doc/source/whatsnew/v0.23.1.rst\n",
            "      3 doc/source/whatsnew/v0.20.2.rst\n",
            "      3 doc/source/whatsnew/v0.19.2.rst\n",
            "      3 doc/source/whatsnew/v0.19.1.rst\n",
            "      3 doc/source/getting_started/comparison/includes/sorting.rst\n",
            "      3 doc/source/getting_started/comparison/includes/missing.rst\n",
            "      3 doc/source/getting_started/comparison/includes/length.rst\n",
            "      3 doc/source/getting_started/10min.rst\n",
            "      3 doc/source/development/meeting.rst\n",
            "      3 doc/source/development/copy_on_write.rst\n",
            "      2 doc/_templates/pandas_footer.html\n",
            "      2 doc/sphinxext/README.rst\n",
            "      2 doc/sphinxext/contributors.py\n",
            "      2 doc/source/whatsnew/v2.0.4.rst\n",
            "      2 doc/source/whatsnew/v1.5.4.rst\n",
            "      2 doc/source/whatsnew/v0.4.x.rst\n",
            "      2 doc/source/whatsnew/v0.25.3.rst\n",
            "      2 doc/source/whatsnew/v0.20.3.rst\n",
            "      2 doc/source/_static/schemas/01_table_spreadsheet.png\n",
            "      2 doc/source/_static/logo_sql.svg\n",
            "      2 doc/source/_static/index_user_guide.svg\n",
            "      2 doc/source/_static/index_getting_started.svg\n",
            "      2 doc/source/_static/index_contribute.svg\n",
            "      2 doc/source/_static/index_api.svg\n",
            "      2 doc/source/reference/panel.rst\n",
            "      2 doc/source/reference/options.rst\n",
            "      2 doc/source/getting_started/intro_tutorials/index.rst\n",
            "      2 doc/source/getting_started/comparison/includes/transform.rst\n",
            "      2 doc/source/getting_started/comparison/includes/time_date.rst\n",
            "      2 doc/source/getting_started/comparison/includes/nth_word.rst\n",
            "      2 doc/source/getting_started/comparison/includes/missing_intro.rst\n",
            "      2 doc/source/getting_started/comparison/includes/if_then.rst\n",
            "      2 doc/source/getting_started/comparison/includes/groupby.rst\n",
            "      2 doc/source/getting_started/comparison/includes/find_substring.rst\n",
            "      2 doc/source/getting_started/comparison/includes/filtering.rst\n",
            "      2 doc/source/getting_started/comparison/includes/extract_substring.rst\n",
            "      2 doc/source/getting_started/comparison/includes/column_selection.rst\n",
            "      2 doc/source/getting_started/comparison/includes/column_operations.rst\n",
            "      2 doc/data/titanic.csv\n",
            "      2 doc/cheatsheet/README.txt\n",
            "      2 doc/cheatsheet/Pandas_Cheat_Sheet.pptx\n",
            "      2 doc/cheatsheet/Pandas_Cheat_Sheet.pdf\n",
            "      1 doc/_templates/autosummary/class.rst\n",
            "      1 doc/source/whatsnew/v2.2.3.rst\n",
            "      1 doc/source/whatsnew/v0.8.1.rst\n",
            "      1 doc/source/whatsnew/v0.7.2.rst\n",
            "      1 doc/source/whatsnew/v0.7.1.rst\n",
            "      1 doc/source/whatsnew/v0.23.2.rst\n",
            "      1 doc/source/versions.json\n",
            "      1 doc/source/user_guide/templates/myhtml.tpl\n",
            "      1 doc/source/user_guide/templates/html_table_structure.html\n",
            "      1 doc/source/user_guide/templates/html_style_structure.html\n",
            "      1 doc/source/themes/nature_with_gtoc/theme.conf\n",
            "      1 doc/source/themes/nature_with_gtoc/static/nature.css_t\n",
            "      1 doc/source/themes/nature_with_gtoc/layout.html\n",
            "      1 doc/source/styled.xlsx\n",
            "      1 doc/source/_static/style/tg_gmap.png\n",
            "      1 doc/source/_static/style/tg_axNone_vminvmax.png\n",
            "      1 doc/source/_static/style/tg_axNone.png\n",
            "      1 doc/source/_static/style/tg_axNone_lowhigh.png\n",
            "      1 doc/source/_static/style/tg_axNone_gmap.png\n",
            "      1 doc/source/_static/style/tg_ax0.png\n",
            "      1 doc/source/_static/style/latex_stocks.png\n",
            "      1 doc/source/_static/style/latex_stocks_html.png\n",
            "      1 doc/source/_static/style/latex_2.png\n",
            "      1 doc/source/_static/style/latex_1.png\n",
            "      1 doc/source/_static/style/hq_props.png\n",
            "      1 doc/source/_static/style/hq_axNone.png\n",
            "      1 doc/source/_static/style/hq_ax1.png\n",
            "      1 doc/source/_static/style/hbetw_seq.png\n",
            "      1 doc/source/_static/style/hbetw_props.png\n",
            "      1 doc/source/_static/style/hbetw_basic.png\n",
            "      1 doc/source/_static/style/hbetw_axNone.png\n",
            "      1 doc/source/_static/style/format_excel_css.png\n",
            "      1 doc/source/_static/style/footer_simple.png\n",
            "      1 doc/source/_static/style/footer_extended.png\n",
            "      1 doc/source/_static/style/df_pipe.png\n",
            "      1 doc/source/_static/style/df_pipe_hl.png\n",
            "      1 doc/source/_static/style/df_pipe_hl2.png\n",
            "      1 doc/source/_static/style/df_pipe_applymap.png\n",
            "      1 doc/source/_static/style/df_pipe_applydata.png\n",
            "      1 doc/source/_static/style/bg_gmap.png\n",
            "      1 doc/source/_static/style/bg_axNone_vminvmax.png\n",
            "      1 doc/source/_static/style/bg_axNone.png\n",
            "      1 doc/source/_static/style/bg_axNone_lowhigh.png\n",
            "      1 doc/source/_static/style/bg_axNone_gmap.png\n",
            "      1 doc/source/_static/style/bg_ax0.png\n",
            "      1 doc/source/_static/style/appmaphead2.png\n",
            "      1 doc/source/_static/style/appmaphead1.png\n",
            "      1 doc/source/_static/stub\n",
            "      1 doc/source/_static/spreadsheets/vlookup.png\n",
            "      1 doc/source/_static/spreadsheets/sort.png\n",
            "      1 doc/source/_static/spreadsheets/pivot.png\n",
            "      1 doc/source/_static/spreadsheets/logo_excel.svg\n",
            "      1 doc/source/_static/spreadsheets/find.png\n",
            "      1 doc/source/_static/spreadsheets/filter.png\n",
            "      1 doc/source/_static/spreadsheets/conditional.png\n",
            "      1 doc/source/_static/schemas/08_merge_left.svg\n",
            "      1 doc/source/_static/schemas/08_concat_row.svg\n",
            "      1 doc/source/_static/schemas/08_concat_column.svg\n",
            "      1 doc/source/_static/schemas/07_pivot_table.svg\n",
            "      1 doc/source/_static/schemas/07_pivot.svg\n",
            "      1 doc/source/_static/schemas/07_melt.svg\n",
            "      1 doc/source/_static/schemas/06_valuecounts.svg\n",
            "      1 doc/source/_static/schemas/06_reduction.svg\n",
            "      1 doc/source/_static/schemas/06_groupby.svg\n",
            "      1 doc/source/_static/schemas/06_groupby_select_detail.svg\n",
            "      1 doc/source/_static/schemas/06_groupby_agg_detail.svg\n",
            "      1 doc/source/_static/schemas/06_aggregate.svg\n",
            "      1 doc/source/_static/schemas/05_newcolumn_3.svg\n",
            "      1 doc/source/_static/schemas/05_newcolumn_2.svg\n",
            "      1 doc/source/_static/schemas/05_newcolumn_1.svg\n",
            "      1 doc/source/_static/schemas/04_plot_overview.svg\n",
            "      1 doc/source/_static/schemas/03_subset_rows.svg\n",
            "      1 doc/source/_static/schemas/03_subset_columns.svg\n",
            "      1 doc/source/_static/schemas/03_subset_columns_rows.svg\n",
            "      1 doc/source/_static/schemas/02_io_readwrite.svg\n",
            "      1 doc/source/_static/schemas/01_table_series.svg\n",
            "      1 doc/source/_static/schemas/01_table_dataframe.svg\n",
            "      1 doc/source/_static/reshaping_pivot.png\n",
            "      1 doc/source/_static/question_mark_noback.svg\n",
            "      1 doc/source/_static/query-perf-small.png\n",
            "      1 doc/source/_static/query-perf.png\n",
            "      1 doc/source/_static/option_unicode04.png\n",
            "      1 doc/source/_static/option_unicode03.png\n",
            "      1 doc/source/_static/option_unicode02.png\n",
            "      1 doc/source/_static/option_unicode01.png\n",
            "      1 doc/source/_static/logo_stata.svg\n",
            "      1 doc/source/_static/logo_sas_white.svg\n",
            "      1 doc/source/_static/logo_sas.svg\n",
            "      1 doc/source/_static/logo_r.svg\n",
            "      1 doc/source/_static/logo_excel.svg\n",
            "      1 doc/source/_static/legacy_0.10.h5\n",
            "      1 doc/source/_static/excel_pivot.png\n",
            "      1 doc/source/_static/eval-perf-small.png\n",
            "      1 doc/source/_static/eval-perf.png\n",
            "      1 doc/source/_static/ci.png\n",
            "      1 doc/source/_static/banklist.html\n",
            "      1 doc/source/reference/plotting.rst\n",
            "      1 doc/source/reference/missing_value.rst\n",
            "      1 doc/source/getting_started/intro_tutorials/titanic.rst\n",
            "      1 doc/source/getting_started/intro_tutorials/air_quality_no2.rst\n",
            "      1 doc/source/getting_started/comparison/index.rst\n",
            "      1 doc/source/getting_started/comparison/includes/merge_setup.rst\n",
            "      1 doc/source/getting_started/comparison/includes/merge.rst\n",
            "      1 doc/source/getting_started/comparison/includes/limit.rst\n",
            "      1 doc/source/getting_started/comparison/includes/introduction.rst\n",
            "      1 doc/source/getting_started/comparison/includes/construct_dataframe.rst\n",
            "      1 doc/source/getting_started/comparison/includes/case.rst\n",
            "      1 doc/source/getting_started/comparison/comparison_boilerplate.rst\n",
            "      1 doc/source/development/gitpod-imgs/vscode-statusbar.png\n",
            "      1 doc/source/development/gitpod-imgs/vscode-rst.png\n",
            "      1 doc/source/development/gitpod-imgs/rst-rendering.png\n",
            "      1 doc/source/development/gitpod-imgs/pandas-gitpod-branches.png\n",
            "      1 doc/source/development/gitpod-imgs/pandas-github.png\n",
            "      1 doc/source/development/gitpod-imgs/gitpod-workspace.png\n",
            "      1 doc/source/development/gitpod-imgs/gitpod-edit-permissions-repo.png\n",
            "      1 doc/source/development/gitpod-imgs/gitpod-edit-permissions-gh.png\n",
            "      1 doc/source/development/gitpod-imgs/gitpod-dashboard-stop.png\n",
            "      1 doc/README.rst\n",
            "      1 doc/data/tips.csv\n",
            "      1 doc/data/test.xls\n",
            "      1 doc/data/mindex_ex.csv\n",
            "      1 doc/data/iris.data\n",
            "      1 doc/data/fx_prices\n",
            "      1 doc/data/air_quality_stations.csv\n",
            "      1 doc/data/air_quality_pm25_long.csv\n",
            "      1 doc/data/air_quality_parameters.csv\n",
            "      1 doc/data/air_quality_no2_long.csv\n",
            "      1 doc/data/air_quality_no2.csv\n",
            "      1 doc/data/air_quality_long.csv\n",
            "      1 doc/cheatsheet/README.md\n"
          ]
        }
      ]
    },
    {
      "cell_type": "code",
      "source": [
        "!git log --oneline -- doc/ | wc -l"
      ],
      "metadata": {
        "colab": {
          "base_uri": "https://localhost:8080/"
        },
        "id": "TNX-odRO4mtH",
        "outputId": "75433df4-e6fc-4785-ed22-609a661f44e9"
      },
      "execution_count": null,
      "outputs": [
        {
          "output_type": "stream",
          "name": "stdout",
          "text": [
            "13119\n"
          ]
        }
      ]
    },
    {
      "cell_type": "code",
      "source": [
        "!git log --oneline --since=\"2020-01-01\" -- doc/ | wc -l"
      ],
      "metadata": {
        "colab": {
          "base_uri": "https://localhost:8080/"
        },
        "id": "O43CptJ4up0K",
        "outputId": "26f55cea-eabb-4066-9370-0ca72e353432"
      },
      "execution_count": null,
      "outputs": [
        {
          "output_type": "stream",
          "name": "stdout",
          "text": [
            "5215\n"
          ]
        }
      ]
    },
    {
      "cell_type": "code",
      "source": [
        "!git log --pretty=format: --name-only | grep 'README.md' | sort | uniq -c | sort -nr | tee readme_commits.txt"
      ],
      "metadata": {
        "colab": {
          "base_uri": "https://localhost:8080/"
        },
        "id": "T2aHFiQf4na8",
        "outputId": "0ff9d51b-3027-466b-e8a7-635dcb28a07d"
      },
      "execution_count": null,
      "outputs": [
        {
          "output_type": "stream",
          "name": "stdout",
          "text": [
            "    102 README.md\n",
            "      3 web/README.md\n",
            "      2 web/interactive_terminal/README.md\n",
            "      1 doc/cheatsheet/README.md\n"
          ]
        }
      ]
    },
    {
      "cell_type": "markdown",
      "source": [
        "Metrica 3\n",
        "\n"
      ],
      "metadata": {
        "id": "oLABKgHR6e0C"
      }
    },
    {
      "cell_type": "code",
      "source": [
        "#Rodei no gitcli issues\n",
        "gh issue list -R pandas-dev/pandas --state closed\n",
        "gh issue list -R pandas-dev/pandas --state open"
      ],
      "metadata": {
        "colab": {
          "base_uri": "https://localhost:8080/"
        },
        "id": "Ag21Y0_T6bE-",
        "outputId": "22209fa3-b872-408e-b76f-6a408edb8b35"
      },
      "execution_count": null,
      "outputs": [
        {
          "output_type": "stream",
          "name": "stdout",
          "text": [
            "Número total de issues: 59778\n"
          ]
        }
      ]
    },
    {
      "cell_type": "code",
      "source": [
        "#Rodei no gitcli PRs\n",
        "gh pr list -R pandas-dev/pandas --state closed\n",
        "gh pr list -R pandas-dev/pandas --state open"
      ],
      "metadata": {
        "colab": {
          "base_uri": "https://localhost:8080/"
        },
        "id": "Bu0euww-fVCc",
        "outputId": "908277df-bc92-4461-f7a4-b65b1d1d29fe"
      },
      "execution_count": null,
      "outputs": [
        {
          "output_type": "stream",
          "name": "stdout",
          "text": [
            "Número total de issues: 18709\n"
          ]
        }
      ]
    },
    {
      "cell_type": "markdown",
      "source": [],
      "metadata": {
        "id": "dPV-Q2IC0pDF"
      }
    }
  ]
}