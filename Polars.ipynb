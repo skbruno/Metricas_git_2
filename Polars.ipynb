{
  "nbformat": 4,
  "nbformat_minor": 0,
  "metadata": {
    "colab": {
      "provenance": []
    },
    "kernelspec": {
      "name": "python3",
      "display_name": "Python 3"
    },
    "language_info": {
      "name": "python"
    }
  },
  "cells": [
    {
      "cell_type": "markdown",
      "source": [
        "# Informação básicas"
      ],
      "metadata": {
        "id": "w3UMWWOHvOM3"
      }
    },
    {
      "cell_type": "markdown",
      "source": [
        "Baixando o repositório desejado"
      ],
      "metadata": {
        "id": "OTTuWhv3TFom"
      }
    },
    {
      "cell_type": "code",
      "source": [
        "!git clone https://github.com/pola-rs/polars"
      ],
      "metadata": {
        "colab": {
          "base_uri": "https://localhost:8080/"
        },
        "id": "qS0gp5-hxQhR",
        "outputId": "a0db2734-c449-4213-d739-f7a14b0a7699"
      },
      "execution_count": null,
      "outputs": [
        {
          "output_type": "stream",
          "name": "stdout",
          "text": [
            "Cloning into 'polars'...\n",
            "remote: Enumerating objects: 203660, done.\u001b[K\n",
            "remote: Counting objects: 100% (6950/6950), done.\u001b[K\n",
            "remote: Compressing objects: 100% (1860/1860), done.\u001b[K\n",
            "remote: Total 203660 (delta 5674), reused 5986 (delta 4998), pack-reused 196710 (from 1)\u001b[K\n",
            "Receiving objects: 100% (203660/203660), 147.37 MiB | 13.98 MiB/s, done.\n",
            "Resolving deltas: 100% (161251/161251), done.\n"
          ]
        }
      ]
    },
    {
      "cell_type": "markdown",
      "source": [
        "Mudando a pasta atual para o pygame"
      ],
      "metadata": {
        "id": "PwUizcz5THh2"
      }
    },
    {
      "cell_type": "code",
      "source": [
        "%cd /content/polars"
      ],
      "metadata": {
        "colab": {
          "base_uri": "https://localhost:8080/"
        },
        "id": "_mXKyCcozxEg",
        "outputId": "cf377d09-76ee-4aad-ad5c-c752e2212841"
      },
      "execution_count": null,
      "outputs": [
        {
          "output_type": "stream",
          "name": "stdout",
          "text": [
            "/content/polars\n"
          ]
        }
      ]
    },
    {
      "cell_type": "code",
      "source": [
        "!ls\n",
        "!pwd"
      ],
      "metadata": {
        "colab": {
          "base_uri": "https://localhost:8080/"
        },
        "id": "_N5RXLowNuvj",
        "outputId": "8b95f2ee-1898-49a6-895e-e1af11e1b540"
      },
      "execution_count": null,
      "outputs": [
        {
          "output_type": "stream",
          "name": "stdout",
          "text": [
            "Cargo.lock  CONTRIBUTING.md  docs\t  examples  Makefile\tpy-polars  rustfmt.toml\n",
            "Cargo.toml  crates\t     dprint.json  LICENSE   mkdocs.yml\tREADME.md  rust-toolchain.toml\n",
            "/content/polars\n"
          ]
        }
      ]
    },
    {
      "cell_type": "markdown",
      "source": [
        "## Operações básicas"
      ],
      "metadata": {
        "id": "MrBJLeCpTMPg"
      }
    },
    {
      "cell_type": "markdown",
      "source": [
        "Lista contribuidores"
      ],
      "metadata": {
        "id": "iyvmHu5Ezk-I"
      }
    },
    {
      "cell_type": "markdown",
      "source": [
        "1. Contar o Número de Commits em um Repositório"
      ],
      "metadata": {
        "id": "zS7OB64Sqwnm"
      }
    },
    {
      "cell_type": "code",
      "execution_count": null,
      "metadata": {
        "colab": {
          "base_uri": "https://localhost:8080/"
        },
        "id": "xnD4RXDMqvfh",
        "outputId": "a1ce6f7c-ceec-4d5e-959d-9ba886ddebcd"
      },
      "outputs": [
        {
          "output_type": "stream",
          "name": "stdout",
          "text": [
            "3408\n",
            "2394\n",
            "2431\n",
            "10811\n"
          ]
        }
      ],
      "source": [
        "!git rev-list --count HEAD --after='2023-01-01' --before='2023-12-31'\n",
        "!git rev-list --count HEAD --after='2023-01-01' --before='2023-09-15'\n",
        "!git rev-list --count HEAD --after='2024-01-01' --before='2024-09-15'\n",
        "\n",
        "!git rev-list --count HEAD --after='2020-01-01'\n"
      ]
    },
    {
      "cell_type": "markdown",
      "source": [
        " 2. Identificar os Arquivos Mais Ativos\n",
        "\n",
        " Este comando lista os 10 arquivos mais frequentemente modificados, o que pode indicar áreas de instabilidade ou alto *churn*."
      ],
      "metadata": {
        "id": "3qqpy8NytkIO"
      }
    },
    {
      "cell_type": "code",
      "source": [
        "!git shortlog -sn --email --no-merges | head -n 10 | tee users-commit.txt"
      ],
      "metadata": {
        "colab": {
          "base_uri": "https://localhost:8080/"
        },
        "id": "KOQmwREH014G",
        "outputId": "618a20a7-1beb-4d2c-8ed6-754b919de413"
      },
      "execution_count": null,
      "outputs": [
        {
          "output_type": "stream",
          "name": "stdout",
          "text": [
            "  4515\tRitchie Vink <ritchie46@gmail.com>\n",
            "   994\tritchie46 <ritchie46@gmail.com>\n",
            "   774\tAlexander Beedie <alexander-beedie@users.noreply.github.com>\n",
            "   597\tStijn de Gooijer <stijn@degooijer.io>\n",
            "   578\tStijn de Gooijer <stijndegooijer@gmail.com>\n",
            "   297\tMarco Edward Gorelli <marcogorelli@protonmail.com>\n",
            "   231\tWeijie Guo <reswqa@163.com>\n",
            "   203\tOrson Peters <orsonpeters@gmail.com>\n",
            "   181\tnameexhaustion <simonlin.rqmmw@slmail.me>\n",
            "   155\tJ van Zundert <mail@jeroenvanzundert.nl>\n"
          ]
        }
      ]
    },
    {
      "cell_type": "code",
      "source": [
        "!git log --pretty=format: --name-only | sort | uniq -c | sort -nr | head -10 | tee file"
      ],
      "metadata": {
        "colab": {
          "base_uri": "https://localhost:8080/"
        },
        "id": "fBEw74t6trgM",
        "outputId": "f53b092a-7676-447b-eb73-b37b804a79a1"
      },
      "execution_count": null,
      "outputs": [
        {
          "output_type": "stream",
          "name": "stdout",
          "text": [
            "  10810 \n",
            "    734 py-polars/Cargo.lock\n",
            "    729 py-polars/Cargo.toml\n",
            "    514 py-polars/polars/dataframe/frame.py\n",
            "    415 py-polars/src/dataframe.rs\n",
            "    364 py-polars/polars/series/series.py\n",
            "    356 py-polars/polars/expr/expr.py\n",
            "    350 polars/polars-core/Cargo.toml\n",
            "    343 py-polars/src/lazy/dsl.rs\n",
            "    339 py-polars/src/series.rs\n"
          ]
        }
      ]
    },
    {
      "cell_type": "markdown",
      "source": [
        "6. Medir a Idade do Código"
      ],
      "metadata": {
        "id": "VrhXwBw_uN-s"
      }
    },
    {
      "cell_type": "code",
      "source": [
        "!git log --format=\"%aD\" | tail -1"
      ],
      "metadata": {
        "colab": {
          "base_uri": "https://localhost:8080/"
        },
        "id": "0U0hg6-zuSq-",
        "outputId": "1a8494e3-ae10-42fa-ef58-130e3256ef9b"
      },
      "execution_count": null,
      "outputs": [
        {
          "output_type": "stream",
          "name": "stdout",
          "text": [
            "Sun, 10 May 2020 20:14:55 +0200\n"
          ]
        }
      ]
    },
    {
      "cell_type": "markdown",
      "source": [
        "Metrica 2\n"
      ],
      "metadata": {
        "id": "zQWW5AtZarat"
      }
    },
    {
      "cell_type": "code",
      "source": [
        "!git log --since=\"2020-01-01\" --until=\"now\" --pretty=format: --name-only | grep '^docs/' | sort | uniq -c | sort -nr | tee docs_commits.txt"
      ],
      "metadata": {
        "id": "vULjSOUh5YKe",
        "colab": {
          "base_uri": "https://localhost:8080/"
        },
        "outputId": "b3f2ce68-b874-484d-c6be-14274fe53786"
      },
      "execution_count": null,
      "outputs": [
        {
          "output_type": "stream",
          "name": "stdout",
          "text": [
            "     23 docs/user-guide/installation.md\n",
            "     19 docs/user-guide/expressions/plugins.md\n",
            "     15 docs/requirements.txt\n",
            "     15 docs/_build/API_REFERENCE_LINKS.yml\n",
            "     14 docs/development/contributing/index.md\n",
            "     12 docs/index.md\n",
            "     11 docs/src/rust/user-guide/expressions/structs.rs\n",
            "     10 docs/src/rust/user-guide/transformations/time-series/rolling.rs\n",
            "     10 docs/src/rust/Cargo.toml\n",
            "      9 docs/user-guide/migration/pandas.md\n",
            "      9 docs/user-guide/expressions/user-defined-functions.md\n",
            "      9 docs/src/rust/user-guide/expressions/aggregation.rs\n",
            "      8 docs/user-guide/index.md\n",
            "      8 docs/user-guide/getting-started.md\n",
            "      8 docs/src/rust/user-guide/transformations/joins.rs\n",
            "      8 docs/src/python/user-guide/expressions/user-defined-functions.py\n",
            "      8 docs/src/python/user-guide/expressions/aggregation.py\n",
            "      8 docs/development/versioning.md\n",
            "      7 docs/user-guide/transformations/joins.md\n",
            "      7 docs/src/rust/user-guide/transformations/time-series/timezones.rs\n",
            "      7 docs/src/rust/user-guide/transformations/time-series/parsing.rs\n",
            "      7 docs/src/rust/user-guide/expressions/lists.rs\n",
            "      7 docs/src/rust/user-guide/expressions/casting.rs\n",
            "      7 docs/src/rust/user-guide/basics/reading-writing.rs\n",
            "      7 docs/src/python/user-guide/sql/intro.py\n",
            "      7 docs/development/contributing/test.md\n",
            "      6 docs/user-guide/io/index.md\n",
            "      6 docs/user-guide/expressions/strings.md\n",
            "      6 docs/user-guide/expressions/functions.md\n",
            "      6 docs/user-guide/concepts/data-structures.md\n",
            "      6 docs/src/rust/user-guide/transformations/time-series/filter.rs\n",
            "      6 docs/src/rust/user-guide/expressions/user-defined-functions.rs\n",
            "      6 docs/src/rust/user-guide/basics/expressions.rs\n",
            "      6 docs/src/python/user-guide/transformations/time-series/rolling.py\n",
            "      6 docs/src/python/user-guide/basics/expressions.py\n",
            "      6 docs/development/contributing/ide.md\n",
            "      6 docs/api/index.md\n",
            "      5 docs/user-guide/expressions/structs.md\n",
            "      5 docs/user-guide/expressions/casting.md\n",
            "      5 docs/user-guide/basics/index.md\n",
            "      5 docs/src/rust/user-guide/expressions/folds.rs\n",
            "      5 docs/src/python/user-guide/io/database.py\n",
            "      5 docs/src/python/user-guide/expressions/lists.py\n",
            "      5 docs/releases/upgrade/1.md\n",
            "      4 docs/user-guide/transformations/index.md\n",
            "      4 docs/user-guide/lazy/index.md\n",
            "      4 docs/user-guide/io/hugging-face.md\n",
            "      4 docs/user-guide/io/excel.md\n",
            "      4 docs/user-guide/expressions/window.md\n",
            "      4 docs/user-guide/expressions/numpy.md\n",
            "      4 docs/user-guide/expressions/index.md\n",
            "      4 docs/user-guide/expressions/aggregation.md\n",
            "      4 docs/user-guide/concepts/streaming.md\n",
            "      4 docs/user-guide/concepts/lazy-vs-eager.md\n",
            "      4 docs/user-guide/concepts/data-types/overview.md\n",
            "      4 docs/user-guide/concepts/data-types.md\n",
            "      4 docs/user-guide/concepts/data-types/categoricals.md\n",
            "      4 docs/user-guide/basics/reading-writing.md\n",
            "      4 docs/user-guide/basics/joins.md\n",
            "      4 docs/user-guide/basics/expressions.md\n",
            "      4 docs/src/rust/user-guide/transformations/time-series/resampling.rs\n",
            "      4 docs/src/rust/user-guide/transformations/pivot.rs\n",
            "      4 docs/src/rust/user-guide/transformations/concatenation.rs\n",
            "      4 docs/src/rust/user-guide/io/csv.rs\n",
            "      4 docs/src/rust/user-guide/io/cloud-storage.rs\n",
            "      4 docs/src/rust/user-guide/getting-started/reading-writing.rs\n",
            "      4 docs/src/rust/user-guide/expressions/window.rs\n",
            "      4 docs/src/rust/user-guide/expressions/column-selections.rs\n",
            "      4 docs/src/rust/user-guide/concepts/streaming.rs\n",
            "      4 docs/src/rust/user-guide/basics/series-dataframes.rs\n",
            "      4 docs/src/python/user-guide/transformations/joins.py\n",
            "      4 docs/src/python/user-guide/lazy/schema.py\n",
            "      4 docs/src/python/user-guide/expressions/structs.py\n",
            "      4 docs/src/python/user-guide/basics/reading-writing.py\n",
            "      4 docs/_build/overrides/404.html\n",
            "      3 docs/user-guide/transformations/time-series/timezones.md\n",
            "      3 docs/user-guide/transformations/time-series/rolling.md\n",
            "      3 docs/user-guide/transformations/time-series/parsing.md\n",
            "      3 docs/user-guide/transformations/concatenation.md\n",
            "      3 docs/user-guide/misc/multiprocessing.md\n",
            "      3 docs/user-guide/misc/alternatives.md\n",
            "      3 docs/user-guide/lazy/schemas.md\n",
            "      3 docs/user-guide/lazy/query-plan.md\n",
            "      3 docs/user-guide/io/parquet.md\n",
            "      3 docs/user-guide/io/hive.md\n",
            "      3 docs/user-guide/io/database.md\n",
            "      3 docs/user-guide/io/aws.md\n",
            "      3 docs/user-guide/expressions/lists.md\n",
            "      3 docs/user-guide/expressions/column-selections.md\n",
            "      3 docs/user-guide/ecosystem.md\n",
            "      3 docs/user-guide/concepts/index.md\n",
            "      3 docs/user-guide/concepts/expressions.md\n",
            "      3 docs/user-guide/basics/series-dataframes.md\n",
            "      3 docs/src/rust/user-guide/io/parquet.rs\n",
            "      3 docs/src/rust/user-guide/io/json.rs\n",
            "      3 docs/src/rust/user-guide/expressions/strings.rs\n",
            "      3 docs/src/rust/user-guide/concepts/lazy-vs-eager.rs\n",
            "      3 docs/src/rust/user-guide/concepts/expressions.rs\n",
            "      3 docs/src/rust/user-guide/concepts/contexts.rs\n",
            "      3 docs/src/rust/user-guide/basics/joins.rs\n",
            "      3 docs/src/rust/home/example.rs\n",
            "      3 docs/src/python/user-guide/transformations/concatenation.py\n",
            "      3 docs/src/python/user-guide/io/hive.py\n",
            "      3 docs/src/python/user-guide/io/cloud-storage.py\n",
            "      3 docs/src/python/user-guide/expressions/null.py\n",
            "      3 docs/src/python/user-guide/expressions/column-selections.py\n",
            "      3 docs/src/python/user-guide/expressions/casting.py\n",
            "      3 docs/releases/upgrade/index.md\n",
            "      3 docs/pyproject.toml\n",
            "      3 docs/mlc-config.json\n",
            "      3 docs/getting-started/expressions.md\n",
            "      3 docs/_build/snippets/under_construction.md\n",
            "      3 docs/_build/scripts/people.py\n",
            "      3 docs/_build/scripts/macro.py\n",
            "      2 docs/user-guide/transformations/time-series/resampling.md\n",
            "      2 docs/user-guide/transformations/time-series/filter.md\n",
            "      2 docs/user-guide/transformations/pivot.md\n",
            "      2 docs/user-guide/transformations/melt.md\n",
            "      2 docs/user-guide/sql/select.md\n",
            "      2 docs/user-guide/sql/intro.md\n",
            "      2 docs/user-guide/overview.md\n",
            "      2 docs/user-guide/misc/visualization.md\n",
            "      2 docs/user-guide/misc/reference-guides.md\n",
            "      2 docs/user-guide/misc/contributing.md\n",
            "      2 docs/user-guide/misc/arrow.md\n",
            "      2 docs/user-guide/migration/spark.md\n",
            "      2 docs/user-guide/lazy/optimizations.md\n",
            "      2 docs/user-guide/io/multiple.md\n",
            "      2 docs/user-guide/io/json.md\n",
            "      2 docs/user-guide/io/csv.md\n",
            "      2 docs/user-guide/io/cloud-storage.md\n",
            "      2 docs/user-guide/expressions/null.md\n",
            "      2 docs/user-guide/expressions/missing-data.md\n",
            "      2 docs/user-guide/expressions/folds.md\n",
            "      2 docs/user-guide/concepts/contexts.md\n",
            "      2 docs/src/rust/user-guide/getting-started/joins.rs\n",
            "      2 docs/src/rust/user-guide/expressions/null.rs\n",
            "      2 docs/src/rust/user-guide/expressions/missing-data.rs\n",
            "      2 docs/src/rust/user-guide/concepts/data-structures.rs\n",
            "      2 docs/src/rust/getting-started/series-dataframes.rs\n",
            "      2 docs/src/rust/getting-started/reading-writing.rs\n",
            "      2 docs/src/python/user-guide/transformations/time-series/timezones.py\n",
            "      2 docs/src/python/user-guide/transformations/time-series/parsing.py\n",
            "      2 docs/src/python/user-guide/transformations/time-series/filter.py\n",
            "      2 docs/src/python/user-guide/transformations/pivot.py\n",
            "      2 docs/src/python/user-guide/sql/select.py\n",
            "      2 docs/src/python/user-guide/sql/create.py\n",
            "      2 docs/src/python/user-guide/misc/visualization.py\n",
            "      2 docs/src/python/user-guide/misc/multiprocess.py\n",
            "      2 docs/src/python/user-guide/lazy/using.py\n",
            "      2 docs/src/python/user-guide/lazy/execution.py\n",
            "      2 docs/src/python/user-guide/io/multiple.py\n",
            "      2 docs/src/python/user-guide/io/json.py\n",
            "      2 docs/src/python/user-guide/io/hugging-face.py\n",
            "      2 docs/src/python/user-guide/io/bigquery.py\n",
            "      2 docs/src/python/user-guide/io/aws.py\n",
            "      2 docs/src/python/user-guide/getting-started/joins.py\n",
            "      2 docs/src/python/user-guide/getting-started/expressions.py\n",
            "      2 docs/src/python/user-guide/expressions/window.py\n",
            "      2 docs/src/python/user-guide/expressions/strings.py\n",
            "      2 docs/src/python/user-guide/expressions/operators.py\n",
            "      2 docs/src/python/user-guide/expressions/numpy-example.py\n",
            "      2 docs/src/python/user-guide/concepts/streaming.py\n",
            "      2 docs/src/python/user-guide/concepts/expressions.py\n",
            "      2 docs/src/python/user-guide/concepts/data-types/categoricals.py\n",
            "      2 docs/src/python/user-guide/concepts/contexts.py\n",
            "      2 docs/src/python/user-guide/basics/series-dataframes.py\n",
            "      2 docs/src/python/user-guide/basics/joins.py\n",
            "      2 docs/src/python/getting-started/series-dataframes.py\n",
            "      2 docs/src/python/getting-started/expressions.py\n",
            "      2 docs/releases/upgrade/0.19.md\n",
            "      2 docs/releases/changelog.md\n",
            "      2 docs/getting-started/series-dataframes.md\n",
            "      2 docs/getting-started/intro.md\n",
            "      2 docs/getting-started/installation.md\n",
            "      2 docs/development/contributing.md\n",
            "      2 docs/development/contributing/code-style.md\n",
            "      2 docs/development/contributing/ci.md\n",
            "      1 docs/user-guide/transformations/unpivot.md\n",
            "      1 docs/user-guide/sql/show.md\n",
            "      1 docs/user-guide/sql/cte.md\n",
            "      1 docs/user-guide/sql/create.md\n",
            "      1 docs/user-guide/misc/styling.md\n",
            "      1 docs/user-guide/misc/comparison.md\n",
            "      1 docs/user-guide/lazy/using.md\n",
            "      1 docs/user-guide/lazy/streaming.md\n",
            "      1 docs/user-guide/lazy/query_plan.md\n",
            "      1 docs/user-guide/lazy/gpu.md\n",
            "      1 docs/user-guide/lazy/execution.md\n",
            "      1 docs/user-guide/io/json_file.md\n",
            "      1 docs/user-guide/io/bigquery.md\n",
            "      1 docs/user-guide/gpu-support.md\n",
            "      1 docs/user-guide/expressions/operators.md\n",
            "      1 docs/src/rust/user-guide/transformations/unpivot.rs\n",
            "      1 docs/src/rust/user-guide/transformations/melt.rs\n",
            "      1 docs/src/rust/user-guide/io/json-file.rs\n",
            "      1 docs/src/rust/user-guide/io/aws.rs\n",
            "      1 docs/src/rust/user-guide/getting-started/expressions.rs\n",
            "      1 docs/src/rust/user-guide/expressions/operators.rs\n",
            "      1 docs/src/rust/user-guide/expressions/functions.rs\n",
            "      1 docs/src/rust/getting-started/joins.rs\n",
            "      1 docs/src/rust/getting-started/expressions.rs\n",
            "      1 docs/src/python/user-guide/transformations/unpivot.py\n",
            "      1 docs/src/python/user-guide/transformations/time-series/resampling.py\n",
            "      1 docs/src/python/user-guide/transformations/melt.py\n",
            "      1 docs/src/python/user-guide/sql/sql_select.py\n",
            "      1 docs/src/python/user-guide/sql/show.py\n",
            "      1 docs/src/python/user-guide/sql/cte.py\n",
            "      1 docs/src/python/user-guide/misc/styling.py\n",
            "      1 docs/src/python/user-guide/misc/arrow_pycapsule.py\n",
            "      1 docs/src/python/user-guide/misc/arrow.py\n",
            "      1 docs/src/python/user-guide/lazy/query_plan.py\n",
            "      1 docs/src/python/user-guide/lazy/query-plan.py\n",
            "      1 docs/src/python/user-guide/lazy/gpu.py\n",
            "      1 docs/src/python/user-guide/io/parquet.py\n",
            "      1 docs/src/python/user-guide/io/excel.py\n",
            "      1 docs/src/python/user-guide/io/csv.py\n",
            "      1 docs/src/python/user-guide/getting-started/reading-writing.py\n",
            "      1 docs/src/python/user-guide/expressions/missing-data.py\n",
            "      1 docs/src/python/user-guide/expressions/functions.py\n",
            "      1 docs/src/python/user-guide/expressions/folds.py\n",
            "      1 docs/src/python/user-guide/concepts/lazy-vs-eager.py\n",
            "      1 docs/src/python/user-guide/concepts/data-structures.py\n",
            "      1 docs/src/python/home/example.py\n",
            "      1 docs/src/python/getting-started/reading-writing.py\n",
            "      1 docs/src/python/getting-started/joins.py\n",
            "      1 docs/releases/upgrade/0.20.md\n",
            "      1 docs/images/.gitignore\n",
            "      1 docs/getting-started/reading-writing.md\n",
            "      1 docs/getting-started/joins.md\n",
            "      1 docs/data/reddit.csv\n",
            "      1 docs/data/iris.csv\n",
            "      1 docs/data/apple_stock.csv\n",
            "      1 docs/data/alltypes_plain.parquet\n",
            "      1 docs/_build/css/extra.css\n",
            "      1 docs/_build/assets/logo.png\n"
          ]
        }
      ]
    },
    {
      "cell_type": "code",
      "source": [
        "!git log --oneline -- docs/ | wc -l"
      ],
      "metadata": {
        "colab": {
          "base_uri": "https://localhost:8080/"
        },
        "id": "TNX-odRO4mtH",
        "outputId": "62a80b1e-7c0f-4b1a-a8b6-09219cb6d5cf"
      },
      "execution_count": null,
      "outputs": [
        {
          "output_type": "stream",
          "name": "stdout",
          "text": [
            "239\n"
          ]
        }
      ]
    },
    {
      "cell_type": "code",
      "source": [
        "!git log --oneline --since=\"2020-01-01\" -- docs/ | wc -l"
      ],
      "metadata": {
        "colab": {
          "base_uri": "https://localhost:8080/"
        },
        "id": "XGNGQf60un3m",
        "outputId": "9300502c-a54d-45ee-d96d-cefc9a8c6606"
      },
      "execution_count": null,
      "outputs": [
        {
          "output_type": "stream",
          "name": "stdout",
          "text": [
            "239\n"
          ]
        }
      ]
    },
    {
      "cell_type": "code",
      "source": [
        "!git log --pretty=format: --name-only | grep 'README.md' | sort | uniq -c | sort -nr | tee readme_commits.txt"
      ],
      "metadata": {
        "colab": {
          "base_uri": "https://localhost:8080/"
        },
        "id": "T2aHFiQf4na8",
        "outputId": "b3463919-a262-4f19-a3a5-ab38eda177b7"
      },
      "execution_count": null,
      "outputs": [
        {
          "output_type": "stream",
          "name": "stdout",
          "text": [
            "    202 README.md\n",
            "      8 nodejs-polars/README.md\n",
            "      7 polars/polars-sql/README.md\n",
            "      3 polars-cli/README.md\n",
            "      3 examples/python_rust_compiled_function/README.md\n",
            "      3 crates/polars-arrow/README.md\n",
            "      3 crates/polars-algo/README.md\n",
            "      3 contribution/README.md\n",
            "      2 vendor/rust_arrow/README.md\n",
            "      2 vendor/rust_arrow/parquet/README.md\n",
            "      2 vendor/rust_arrow/arrow/README.md\n",
            "      2 py-polars/tests/README.md\n",
            "      2 py-polars/legacy/README.md\n",
            "      2 polars/polars-lazy/polars-pipe/README.md\n",
            "      2 nodejs-polars/npm/win32-x64-msvc/README.md\n",
            "      2 nodejs-polars/npm/win32-ia32-msvc/README.md\n",
            "      2 nodejs-polars/npm/win32-arm64-msvc/README.md\n",
            "      2 nodejs-polars/npm/linux-x64-musl/README.md\n",
            "      2 nodejs-polars/npm/linux-x64-gnu/README.md\n",
            "      2 nodejs-polars/npm/linux-arm-gnueabihf/README.md\n",
            "      2 nodejs-polars/npm/linux-arm64-musl/README.md\n",
            "      2 nodejs-polars/npm/linux-arm64-gnu/README.md\n",
            "      2 nodejs-polars/npm/freebsd-x64/README.md\n",
            "      2 nodejs-polars/npm/darwin-x64/README.md\n",
            "      2 nodejs-polars/npm/darwin-arm64/README.md\n",
            "      2 nodejs-polars/npm/android-arm64/README.md\n",
            "      2 nodejs-polars/examples/README.md\n",
            "      2 nodejs-polars/benches/README.md\n",
            "      2 examples/README.md\n",
            "      2 crates/polars-utils/README.md\n",
            "      2 crates/polars-time/README.md\n",
            "      2 crates/polars-sql/README.md\n",
            "      2 crates/polars-row/README.md\n",
            "      2 crates/polars-plan/README.md\n",
            "      2 crates/polars-pipe/README.md\n",
            "      2 crates/polars-ops/README.md\n",
            "      2 crates/polars-lazy/README.md\n",
            "      2 crates/polars-io/README.md\n",
            "      2 crates/polars-error/README.md\n",
            "      2 crates/polars-core/README.md\n",
            "      2 crates/polars-arrow/src/scalar/README.md\n",
            "      1 py-polars/README.md\n",
            "      1 polars/polars-utils/README.md\n",
            "      1 polars/polars-time/README.md\n",
            "      1 polars/polars-row/README.md\n",
            "      1 polars/polars-ops/README.md\n",
            "      1 polars/polars-lazy/README.md\n",
            "      1 polars/polars-io/README.md\n",
            "      1 polars/polars-error/README.md\n",
            "      1 polars/polars-core/README.md\n",
            "      1 polars/polars-arrow/README.md\n",
            "      1 polars/polars-algo/README.md\n",
            "      1 .github/workflows/README.md\n",
            "      1 crates/polars-stream/README.md\n",
            "      1 crates/polars-schema/README.md\n",
            "      1 crates/polars-python/README.md\n",
            "      1 crates/polars-parquet/src/arrow/read/README.md\n",
            "      1 crates/polars-parquet/src/arrow/read/deserialize/README.md\n",
            "      1 crates/polars-mem-engine/README.md\n",
            "      1 crates/polars-json/README.md\n",
            "      1 crates/polars-expr/README.md\n",
            "      1 crates/polars-compute/README.md\n",
            "      1 crates/polars-arrow/src/README.md\n",
            "      1 crates/polars-arrow/src/io/README.md\n",
            "      1 crates/polars-arrow/src/io/parquet/read/README.md\n",
            "      1 crates/polars-arrow/src/io/parquet/read/deserialize/README.md\n",
            "      1 crates/polars-arrow/src/compute/README.md\n",
            "      1 crates/polars-arrow/src/array/README.md\n",
            "      1 crates/nano-arrow/src/scalar/README.md\n",
            "      1 crates/nano-arrow/src/README.md\n",
            "      1 crates/nano-arrow/src/io/README.md\n",
            "      1 crates/nano-arrow/src/io/parquet/read/README.md\n",
            "      1 crates/nano-arrow/src/io/parquet/read/deserialize/README.md\n",
            "      1 crates/nano-arrow/src/compute/README.md\n",
            "      1 crates/nano-arrow/src/array/README.md\n"
          ]
        }
      ]
    },
    {
      "cell_type": "markdown",
      "source": [
        "Metrica 3\n",
        "\n"
      ],
      "metadata": {
        "id": "oLABKgHR6e0C"
      }
    },
    {
      "cell_type": "code",
      "source": [
        "#Rodei no gitcli\n",
        "gh issue list -R pola-rs/polars --state closed\n",
        "gh issue list -R pola-rs/polars --state open"
      ],
      "metadata": {
        "colab": {
          "base_uri": "https://localhost:8080/"
        },
        "id": "Ag21Y0_T6bE-",
        "outputId": "22209fa3-b872-408e-b76f-6a408edb8b35"
      },
      "execution_count": null,
      "outputs": [
        {
          "output_type": "stream",
          "name": "stdout",
          "text": [
            "Número total de issues: 59778\n"
          ]
        }
      ]
    },
    {
      "cell_type": "code",
      "source": [
        "#Rodei no gitcli\n",
        "gh pr list -R pola-rs/polars --state closed\n",
        "gh pr list -R pola-rs/polars --state open"
      ],
      "metadata": {
        "colab": {
          "base_uri": "https://localhost:8080/"
        },
        "id": "Bu0euww-fVCc",
        "outputId": "908277df-bc92-4461-f7a4-b65b1d1d29fe"
      },
      "execution_count": null,
      "outputs": [
        {
          "output_type": "stream",
          "name": "stdout",
          "text": [
            "Número total de issues: 18709\n"
          ]
        }
      ]
    },
    {
      "cell_type": "markdown",
      "source": [],
      "metadata": {
        "id": "dPV-Q2IC0pDF"
      }
    }
  ]
}